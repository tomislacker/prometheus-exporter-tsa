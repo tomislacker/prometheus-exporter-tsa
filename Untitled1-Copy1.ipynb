{
 "cells": [
  {
   "cell_type": "code",
   "execution_count": 1,
   "id": "96415801-693d-4c6c-b4c1-d76f028a50a8",
   "metadata": {},
   "outputs": [],
   "source": [
    "import requests\n",
    "import lxml.html\n",
    "\n",
    "from bs4 import BeautifulSoup\n",
    "\n",
    "\n",
    "scrape_url = 'https://www.atl.com/times/'"
   ]
  },
  {
   "cell_type": "code",
   "execution_count": 2,
   "id": "aec586da-8831-4593-989a-fd96503cd24a",
   "metadata": {},
   "outputs": [],
   "source": [
    "#d = requests.get(scrape_url, stream=True)\n",
    "\n",
    "#response = requests.get(scrape_url, stream=True)\n",
    "#response.raw.decode_content = True\n",
    "#d.raw.decode_content=True\n",
    "#tree = lxml.html.parse(d.raw)\n",
    "\n",
    "#d.text"
   ]
  },
  {
   "cell_type": "code",
   "execution_count": 3,
   "id": "61dedc44-9120-4133-a9f2-8b3f5317875b",
   "metadata": {},
   "outputs": [],
   "source": [
    "# Execute the request to scrape the TSA timings\n",
    "r = requests.get(scrape_url, stream=True)"
   ]
  },
  {
   "cell_type": "code",
   "execution_count": 13,
   "id": "5487a86a-2d0a-4e52-b3b2-a69a7f7daeb1",
   "metadata": {},
   "outputs": [
    {
     "name": "stdout",
     "output_type": "stream",
     "text": [
      "Area: DOMESTIC\n",
      "Sector: MAIN\n",
      "Time: 17\n",
      "Sector: NORTH\n",
      "Time: 13\n",
      "Sector: LOWER NORTH\n",
      "Time: 22\n",
      "Sector: SOUTH\n",
      "Time: 3\n",
      "Area: INT'L\n",
      "Sector: MAIN\n",
      "Time: 12\n"
     ]
    }
   ],
   "source": [
    "# Iterate across them looking for the defined structure to designate\n",
    "# domestic version international\n",
    "\n",
    "tsa_wait_data = {\n",
    "    'AreaToBeDefined': {\n",
    "        'Checkpoint': -1, # Wait time\n",
    "    },\n",
    "}\n",
    "\n",
    "for cell in BeautifulSoup(r.text).select('.lomestic h1'):\n",
    "    \n",
    "    # Do something with these table cells.\n",
    "    print(f'Area: {cell.text}')\n",
    "    for c in cell.parent.parent.select('h2'):\n",
    "        sector_name = c.text\n",
    "        print(f'Sector: {sector_name}')\n",
    "\n",
    "        for c1 in c.parent.parent.parent.select('.col button span'):\n",
    "            print(f'Time: {c1.text}')\n",
    "        "
   ]
  },
  {
   "cell_type": "code",
   "execution_count": 12,
   "id": "eab860a8-eeef-43b4-823a-34f3c22db3f1",
   "metadata": {},
   "outputs": [
    {
     "name": "stdout",
     "output_type": "stream",
     "text": [
      "\n",
      "\n",
      "<div class=\"lomestic\">\n",
      "<h1>INT'L</h1>\n",
      "</div>\n",
      "\n",
      "\n",
      "<div class=\"row\">\n",
      "<div class=\"col nomarginize\">\n",
      "<div class=\"lomestic w-100\">\n",
      "<h2>MAIN</h2>\n",
      "<h3 style=\"color:#000;\">CHECKPOINT</h3>\n",
      "<!-- <h3 style=\"color:#35a;\">CHECKPOINT</h3> -->\n",
      "</div>\n",
      "</div>\n",
      "<div class=\"col\">\n",
      "<div class=\"lomestic float-right\">\n",
      "<!-- <div class='card noclasser2'><div class='card-body'>lalala</div></div> -->\n",
      "<div class=\"declasser3\"><button class=\"btn\" type=\"submit\">\n",
      "<span style=\"color:#0aa700;\">12</span> </button>\n",
      "</div>\n",
      "</div>\n",
      "</div>\n",
      "</div>\n",
      "\n",
      "\n",
      "<hr class=\"lomestic\"/>\n",
      "\n",
      "\n",
      "<div class=\"outterTextic\"><div id=\"clockDiv\"></div><div style=\"font-size:8px;\"><i>(refreshes every 15 seconds)</i></div></div>\n",
      "\n",
      "\n",
      " Precheck \n",
      "\n",
      "\n",
      "<div class=\"row\">\n",
      "<div class=\"col nomarginize\">\n",
      "<div class=\"lomestic\">\n",
      "<!-- <h2>PRECHECK</h2> -->\n",
      "<!-- <h3 style=\"color:#35a;\">CHECKPOINT</h3> -->\n",
      "</div>\n",
      "</div>\n",
      "<div class=\"col\">\n",
      "<div class=\"lomestic float-right\">\n",
      "<!-- <div class='card noclasser2'><div class='card-body'>lalala</div></div> -->\n",
      "<!-- <div class='declasser3'><button class=\"btn\" type=\"submit\"> -->\n",
      "<!-- </button> -->\n",
      "</div>\n",
      "</div>\n",
      "</div>\n",
      "\n",
      "\n"
     ]
    }
   ],
   "source": [
    "for c in cell.parent.parent.children:\n",
    "    print(c)"
   ]
  },
  {
   "cell_type": "raw",
   "id": "5d1d30fa-51f4-4ccc-b37e-0e9f54c239f0",
   "metadata": {},
   "source": []
  },
  {
   "cell_type": "code",
   "execution_count": 6,
   "id": "7ab42673-b432-4516-8642-2455aabea5da",
   "metadata": {},
   "outputs": [
    {
     "name": "stdout",
     "output_type": "stream",
     "text": [
      "Sector: MAIN\n",
      "&%&%&\n",
      "12\n"
     ]
    }
   ],
   "source": [
    "for c in cell.parent.parent.select('h2'):\n",
    "    sector_name = c.text\n",
    "    print(f'Sector: {sector_name}')\n",
    "    #print(c)\n",
    "\n",
    "    for c1 in c.parent.parent.parent.select('.col button span'):\n",
    "        print('&%&%&')\n",
    "        print(c1.text)"
   ]
  },
  {
   "cell_type": "code",
   "execution_count": 7,
   "id": "75b01e5d-aef4-44c4-a63f-19cc2f7c6afc",
   "metadata": {},
   "outputs": [
    {
     "name": "stdout",
     "output_type": "stream",
     "text": [
      "MAIN\n"
     ]
    }
   ],
   "source": [
    "for c1 in c.children:\n",
    "    print(c1)"
   ]
  },
  {
   "cell_type": "code",
   "execution_count": 8,
   "id": "e34cabef-2c0e-4e43-bb8b-d7794fd87d13",
   "metadata": {},
   "outputs": [
    {
     "name": "stdout",
     "output_type": "stream",
     "text": [
      "MAIN\n"
     ]
    },
    {
     "ename": "AttributeError",
     "evalue": "'NavigableString' object has no attribute 'children'",
     "output_type": "error",
     "traceback": [
      "\u001b[0;31m---------------------------------------------------------------------------\u001b[0m",
      "\u001b[0;31mAttributeError\u001b[0m                            Traceback (most recent call last)",
      "Cell \u001b[0;32mIn[8], line 3\u001b[0m\n\u001b[1;32m      1\u001b[0m \u001b[38;5;28;01mfor\u001b[39;00m c1 \u001b[38;5;129;01min\u001b[39;00m c\u001b[38;5;241m.\u001b[39mchildren:\n\u001b[1;32m      2\u001b[0m     \u001b[38;5;28mprint\u001b[39m(c1)\n\u001b[0;32m----> 3\u001b[0m     \u001b[38;5;28;01mfor\u001b[39;00m c2 \u001b[38;5;129;01min\u001b[39;00m \u001b[43mc1\u001b[49m\u001b[38;5;241;43m.\u001b[39;49m\u001b[43mchildren\u001b[49m:\n\u001b[1;32m      4\u001b[0m         \u001b[38;5;28mprint\u001b[39m(c2)\n",
      "File \u001b[0;32m~/.local/share/virtualenvs/prometheus-exporter-tsa-katl-XSx2u4gX/lib/python3.11/site-packages/bs4/element.py:984\u001b[0m, in \u001b[0;36mNavigableString.__getattr__\u001b[0;34m(self, attr)\u001b[0m\n\u001b[1;32m    982\u001b[0m     \u001b[38;5;28;01mreturn\u001b[39;00m \u001b[38;5;28mself\u001b[39m\n\u001b[1;32m    983\u001b[0m \u001b[38;5;28;01melse\u001b[39;00m:\n\u001b[0;32m--> 984\u001b[0m     \u001b[38;5;28;01mraise\u001b[39;00m \u001b[38;5;167;01mAttributeError\u001b[39;00m(\n\u001b[1;32m    985\u001b[0m         \u001b[38;5;124m\"\u001b[39m\u001b[38;5;124m'\u001b[39m\u001b[38;5;132;01m%s\u001b[39;00m\u001b[38;5;124m'\u001b[39m\u001b[38;5;124m object has no attribute \u001b[39m\u001b[38;5;124m'\u001b[39m\u001b[38;5;132;01m%s\u001b[39;00m\u001b[38;5;124m'\u001b[39m\u001b[38;5;124m\"\u001b[39m \u001b[38;5;241m%\u001b[39m (\n\u001b[1;32m    986\u001b[0m             \u001b[38;5;28mself\u001b[39m\u001b[38;5;241m.\u001b[39m\u001b[38;5;18m__class__\u001b[39m\u001b[38;5;241m.\u001b[39m\u001b[38;5;18m__name__\u001b[39m, attr))\n",
      "\u001b[0;31mAttributeError\u001b[0m: 'NavigableString' object has no attribute 'children'"
     ]
    }
   ],
   "source": [
    "for c1 in c.children:\n",
    "    print(c1)\n",
    "    for c2 in c1.children:\n",
    "        print(c2)"
   ]
  },
  {
   "cell_type": "code",
   "execution_count": null,
   "id": "ae3ae255-58c5-4bb7-90be-fc1813cf57bd",
   "metadata": {},
   "outputs": [],
   "source": []
  },
  {
   "cell_type": "code",
   "execution_count": null,
   "id": "f87a488a-00f4-471e-a213-500900d50728",
   "metadata": {},
   "outputs": [],
   "source": []
  }
 ],
 "metadata": {
  "kernelspec": {
   "display_name": "Python 3 (ipykernel)",
   "language": "python",
   "name": "python3"
  },
  "language_info": {
   "codemirror_mode": {
    "name": "ipython",
    "version": 3
   },
   "file_extension": ".py",
   "mimetype": "text/x-python",
   "name": "python",
   "nbconvert_exporter": "python",
   "pygments_lexer": "ipython3",
   "version": "3.11.5"
  }
 },
 "nbformat": 4,
 "nbformat_minor": 5
}
