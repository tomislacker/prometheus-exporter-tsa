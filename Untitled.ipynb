{
 "cells": [
  {
   "cell_type": "code",
   "execution_count": 18,
   "id": "0af705ae-f18a-4c61-bddc-868ab8d6a810",
   "metadata": {},
   "outputs": [],
   "source": [
    "import requests\n",
    "\n",
    "from bs4 import BeautifulSoup"
   ]
  },
  {
   "cell_type": "code",
   "execution_count": 19,
   "id": "8b78e7a6-29f4-4773-829a-1afadd92c0dd",
   "metadata": {},
   "outputs": [],
   "source": [
    "scrape_url = 'https://www.atl.com/times/'\n",
    "\n",
    "d = requests.get(scrape_url)\n",
    "#d.text"
   ]
  },
  {
   "cell_type": "code",
   "execution_count": 20,
   "id": "2301c57e-c8f7-4681-a52a-cbaf693fad51",
   "metadata": {},
   "outputs": [],
   "source": [
    "import lxml.html\n",
    "import requests\n",
    "\n",
    "response = requests.get(scrape_url, stream=True)\n",
    "response.raw.decode_content = True\n",
    "d.raw.decode_content=True\n",
    "tree = lxml.html.parse(d.raw)"
   ]
  },
  {
   "cell_type": "code",
   "execution_count": 21,
   "id": "06d18038-9128-4c92-bbb7-c2a64f80fe3f",
   "metadata": {},
   "outputs": [
    {
     "data": {
      "text/plain": [
       "<lxml.etree._ElementTree at 0x7f3d9d63d400>"
      ]
     },
     "execution_count": 21,
     "metadata": {},
     "output_type": "execute_result"
    }
   ],
   "source": [
    "tree"
   ]
  },
  {
   "cell_type": "code",
   "execution_count": 22,
   "id": "22194941-27fb-43cd-a5ab-c8386fd8dcb1",
   "metadata": {},
   "outputs": [
    {
     "name": "stdout",
     "output_type": "stream",
     "text": [
      "Cell\n",
      "<div class=\"lomestic\">\n",
      "<h1>DOMESTIC</h1>\n",
      "</div>\n",
      "Cell\n",
      "<div class=\"lomestic\">\n",
      "<h2>MAIN</h2>\n",
      "<h3 style=\"color:#000;\">CHECKPOINT</h3>\n",
      "<!-- <h3 style=\"color:#35a;\">CHECKPOINT</h3> -->\n",
      "</div>\n",
      "Cell\n",
      "<div class=\"lomestic float-right\">\n",
      "<!-- <div class='card noclasser2'><div class='card-body'>lalala</div></div> -->\n",
      "<div class=\"declasser3\"><button class=\"btn\" type=\"submit\">\n",
      "<span style=\"color:#0aa700;\">14</span> </button>\n",
      "</div>\n",
      "</div>\n",
      "Cell\n",
      "<hr class=\"lomestic\"/>\n",
      "Cell\n",
      "<div class=\"lomestic\">\n",
      "<h2>NORTH</h2>\n",
      "<h3 style=\"color:#35a;\">CHECKPOINT</h3>\n",
      "<!-- <h3 style=\"color:#35a;\">CHECKPOINT</h3> -->\n",
      "</div>\n",
      "Cell\n",
      "<div class=\"lomestic float-right\">\n",
      "<!-- <div class='card noclasser2'><div class='card-body'>lalala</div></div> -->\n",
      "<div class=\"declasser3\"><button class=\"btn\" type=\"submit\">\n",
      "<span style=\"color:#ffd600;\">19</span> </button>\n",
      "</div>\n",
      "</div>\n",
      "Cell\n",
      "<hr class=\"lomestic\"/>\n",
      "Cell\n",
      "<div class=\"lomestic\">\n",
      "<h2>LOWER NORTH</h2>\n",
      "<!-- <h3 style=\"color:#c51700;\">CHECKPOINT</h3> -->\n",
      "<h3 style=\"color:#35a;\">CHECKPOINT</h3>\n",
      "<!-- <h3 style=\"color:#35a;\">CHECKPOINT</h3> -->\n",
      "</div>\n",
      "Cell\n",
      "<div class=\"lomestic float-right\">\n",
      "<!-- <div class='card noclasser2'><div class='card-body'>lalala</div></div> -->\n",
      "<div class=\"declasser3\"><button class=\"btn\" type=\"submit\">\n",
      "<span style=\"color:#ffd600;\">24</span> </button>\n",
      "</div>\n",
      "</div>\n",
      "Cell\n",
      "<hr class=\"lomestic\"/>\n",
      "Cell\n",
      "<div class=\"lomestic\">\n",
      "<h2>SOUTH</h2>\n",
      "<!-- <h3 style=\"color:#c51700;\">CHECKPOINT</h3> -->\n",
      "<h3 style=\"color:#c51700;\">PRECHECK ONLY CHECKPOINT</h3>\n",
      "<!-- <h3 style=\"color:#35a;\">CHECKPOINT</h3> -->\n",
      "</div>\n",
      "Cell\n",
      "<div class=\"lomestic float-right\">\n",
      "<!-- <div class='card noclasser2'><div class='card-body'>lalala</div></div> -->\n",
      "<div class=\"declasser3\"><button class=\"btn\" type=\"submit\">\n",
      "<span style=\"color:#0aa700;\">13</span> </button>\n",
      "</div>\n",
      "</div>\n",
      "Cell\n",
      "<div class=\"lomestic\">\n",
      "<h1>INT'L</h1>\n",
      "</div>\n",
      "Cell\n",
      "<div class=\"lomestic w-100\">\n",
      "<h2>MAIN</h2>\n",
      "<h3 style=\"color:#000;\">CHECKPOINT</h3>\n",
      "<!-- <h3 style=\"color:#35a;\">CHECKPOINT</h3> -->\n",
      "</div>\n",
      "Cell\n",
      "<div class=\"lomestic float-right\">\n",
      "<!-- <div class='card noclasser2'><div class='card-body'>lalala</div></div> -->\n",
      "<div class=\"declasser3\"><button class=\"btn\" type=\"submit\">\n",
      "<span style=\"color:#ffd600;\">18</span> </button>\n",
      "</div>\n",
      "</div>\n",
      "Cell\n",
      "<hr class=\"lomestic\"/>\n",
      "Cell\n",
      "<div class=\"lomestic\">\n",
      "<!-- <h2>PRECHECK</h2> -->\n",
      "<!-- <h3 style=\"color:#35a;\">CHECKPOINT</h3> -->\n",
      "</div>\n",
      "Cell\n",
      "<div class=\"lomestic float-right\">\n",
      "<!-- <div class='card noclasser2'><div class='card-body'>lalala</div></div> -->\n",
      "<!-- <div class='declasser3'><button class=\"btn\" type=\"submit\"> -->\n",
      "<!-- </button> -->\n",
      "</div>\n"
     ]
    }
   ],
   "source": [
    "for cell in BeautifulSoup(response.text).select('.lomestic'):\n",
    "    # Do something with these table cells.\n",
    "    print('Cell')\n",
    "    print(cell)"
   ]
  },
  {
   "cell_type": "code",
   "execution_count": 24,
   "id": "03202b82-ddfb-48f4-8e7e-c07c0928cb68",
   "metadata": {},
   "outputs": [
    {
     "data": {
      "text/plain": [
       "['__attrs__',\n",
       " '__bool__',\n",
       " '__class__',\n",
       " '__delattr__',\n",
       " '__dict__',\n",
       " '__dir__',\n",
       " '__doc__',\n",
       " '__enter__',\n",
       " '__eq__',\n",
       " '__exit__',\n",
       " '__format__',\n",
       " '__ge__',\n",
       " '__getattribute__',\n",
       " '__getstate__',\n",
       " '__gt__',\n",
       " '__hash__',\n",
       " '__init__',\n",
       " '__init_subclass__',\n",
       " '__iter__',\n",
       " '__le__',\n",
       " '__lt__',\n",
       " '__module__',\n",
       " '__ne__',\n",
       " '__new__',\n",
       " '__nonzero__',\n",
       " '__reduce__',\n",
       " '__reduce_ex__',\n",
       " '__repr__',\n",
       " '__setattr__',\n",
       " '__setstate__',\n",
       " '__sizeof__',\n",
       " '__str__',\n",
       " '__subclasshook__',\n",
       " '__weakref__',\n",
       " '_content',\n",
       " '_content_consumed',\n",
       " '_next',\n",
       " 'apparent_encoding',\n",
       " 'close',\n",
       " 'connection',\n",
       " 'content',\n",
       " 'cookies',\n",
       " 'elapsed',\n",
       " 'encoding',\n",
       " 'headers',\n",
       " 'history',\n",
       " 'is_permanent_redirect',\n",
       " 'is_redirect',\n",
       " 'iter_content',\n",
       " 'iter_lines',\n",
       " 'json',\n",
       " 'links',\n",
       " 'next',\n",
       " 'ok',\n",
       " 'raise_for_status',\n",
       " 'raw',\n",
       " 'reason',\n",
       " 'request',\n",
       " 'status_code',\n",
       " 'text',\n",
       " 'url']"
      ]
     },
     "execution_count": 24,
     "metadata": {},
     "output_type": "execute_result"
    }
   ],
   "source": [
    "dir(response)"
   ]
  },
  {
   "cell_type": "code",
   "execution_count": 25,
   "id": "9b98a173-6413-4d87-ba6b-5d877e2d639b",
   "metadata": {},
   "outputs": [
    {
     "data": {
      "text/plain": [
       "<urllib3.response.HTTPResponse at 0x7f3db84c62f0>"
      ]
     },
     "execution_count": 25,
     "metadata": {},
     "output_type": "execute_result"
    }
   ],
   "source": [
    "response.raw"
   ]
  },
  {
   "cell_type": "code",
   "execution_count": 26,
   "id": "40e61d45-d0b1-4997-9e11-5778e573b58e",
   "metadata": {},
   "outputs": [
    {
     "name": "stdout",
     "output_type": "stream",
     "text": [
      "<urllib3.response.HTTPResponse object at 0x7f3db84c62f0>\n"
     ]
    }
   ],
   "source": [
    "print(response.raw)"
   ]
  },
  {
   "cell_type": "code",
   "execution_count": 30,
   "id": "c448d541-c7d4-481e-a6d7-af0d6af3e363",
   "metadata": {},
   "outputs": [
    {
     "name": "stdout",
     "output_type": "stream",
     "text": [
      "Cell\n",
      "<h1>DOMESTIC</h1>\n",
      "$$$\n",
      "DOMESTIC\n",
      "$$$\n",
      "---------------------\n",
      "Sub....\n",
      "Cell\n",
      "<h1>INT'L</h1>\n",
      "$$$\n",
      "INT'L\n",
      "$$$\n",
      "---------------------\n",
      "Sub....\n"
     ]
    }
   ],
   "source": [
    "for cell in BeautifulSoup(d.text).select('.lomestic h1'):\n",
    "    # Do something with these table cells.\n",
    "    print('Cell')\n",
    "    print(cell)\n",
    "    print('$$$')\n",
    "    print(cell.text)\n",
    "    print('$$$')\n",
    "    print('---------------------')\n",
    "    print('Sub....')\n",
    "    for c2 in cell.parent.select('h3'):\n",
    "        print(c2)\n",
    "        "
   ]
  },
  {
   "cell_type": "code",
   "execution_count": 17,
   "id": "0c9f7dbc-bb80-4f19-b54b-876a85a21277",
   "metadata": {},
   "outputs": [
    {
     "data": {
      "text/plain": [
       "['DEFAULT_INTERESTING_STRING_TYPES',\n",
       " 'EMPTY_ELEMENT_EVENT',\n",
       " 'END_ELEMENT_EVENT',\n",
       " 'START_ELEMENT_EVENT',\n",
       " 'STRING_ELEMENT_EVENT',\n",
       " '__bool__',\n",
       " '__call__',\n",
       " '__class__',\n",
       " '__contains__',\n",
       " '__copy__',\n",
       " '__deepcopy__',\n",
       " '__delattr__',\n",
       " '__delitem__',\n",
       " '__dict__',\n",
       " '__dir__',\n",
       " '__doc__',\n",
       " '__eq__',\n",
       " '__format__',\n",
       " '__ge__',\n",
       " '__getattr__',\n",
       " '__getattribute__',\n",
       " '__getitem__',\n",
       " '__getstate__',\n",
       " '__gt__',\n",
       " '__hash__',\n",
       " '__init__',\n",
       " '__init_subclass__',\n",
       " '__iter__',\n",
       " '__le__',\n",
       " '__len__',\n",
       " '__lt__',\n",
       " '__module__',\n",
       " '__ne__',\n",
       " '__new__',\n",
       " '__reduce__',\n",
       " '__reduce_ex__',\n",
       " '__repr__',\n",
       " '__setattr__',\n",
       " '__setitem__',\n",
       " '__sizeof__',\n",
       " '__str__',\n",
       " '__subclasshook__',\n",
       " '__unicode__',\n",
       " '__weakref__',\n",
       " '_all_strings',\n",
       " '_clone',\n",
       " '_event_stream',\n",
       " '_find_all',\n",
       " '_find_one',\n",
       " '_format_tag',\n",
       " '_indent_string',\n",
       " '_is_xml',\n",
       " '_lastRecursiveChild',\n",
       " '_last_descendant',\n",
       " '_namespaces',\n",
       " '_should_pretty_print',\n",
       " 'append',\n",
       " 'attrs',\n",
       " 'can_be_empty_element',\n",
       " 'cdata_list_attributes',\n",
       " 'childGenerator',\n",
       " 'children',\n",
       " 'clear',\n",
       " 'contents',\n",
       " 'css',\n",
       " 'decode',\n",
       " 'decode_contents',\n",
       " 'decompose',\n",
       " 'decomposed',\n",
       " 'default',\n",
       " 'descendants',\n",
       " 'encode',\n",
       " 'encode_contents',\n",
       " 'extend',\n",
       " 'extract',\n",
       " 'fetchNextSiblings',\n",
       " 'fetchParents',\n",
       " 'fetchPrevious',\n",
       " 'fetchPreviousSiblings',\n",
       " 'find',\n",
       " 'findAll',\n",
       " 'findAllNext',\n",
       " 'findAllPrevious',\n",
       " 'findChild',\n",
       " 'findChildren',\n",
       " 'findNext',\n",
       " 'findNextSibling',\n",
       " 'findNextSiblings',\n",
       " 'findParent',\n",
       " 'findParents',\n",
       " 'findPrevious',\n",
       " 'findPreviousSibling',\n",
       " 'findPreviousSiblings',\n",
       " 'find_all',\n",
       " 'find_all_next',\n",
       " 'find_all_previous',\n",
       " 'find_next',\n",
       " 'find_next_sibling',\n",
       " 'find_next_siblings',\n",
       " 'find_parent',\n",
       " 'find_parents',\n",
       " 'find_previous',\n",
       " 'find_previous_sibling',\n",
       " 'find_previous_siblings',\n",
       " 'format_string',\n",
       " 'formatter_for_name',\n",
       " 'get',\n",
       " 'getText',\n",
       " 'get_attribute_list',\n",
       " 'get_text',\n",
       " 'has_attr',\n",
       " 'has_key',\n",
       " 'hidden',\n",
       " 'index',\n",
       " 'insert',\n",
       " 'insert_after',\n",
       " 'insert_before',\n",
       " 'interesting_string_types',\n",
       " 'isSelfClosing',\n",
       " 'is_empty_element',\n",
       " 'known_xml',\n",
       " 'name',\n",
       " 'namespace',\n",
       " 'next',\n",
       " 'nextGenerator',\n",
       " 'nextSibling',\n",
       " 'nextSiblingGenerator',\n",
       " 'next_element',\n",
       " 'next_elements',\n",
       " 'next_sibling',\n",
       " 'next_siblings',\n",
       " 'parent',\n",
       " 'parentGenerator',\n",
       " 'parents',\n",
       " 'parserClass',\n",
       " 'parser_class',\n",
       " 'prefix',\n",
       " 'preserve_whitespace_tags',\n",
       " 'prettify',\n",
       " 'previous',\n",
       " 'previousGenerator',\n",
       " 'previousSibling',\n",
       " 'previousSiblingGenerator',\n",
       " 'previous_element',\n",
       " 'previous_elements',\n",
       " 'previous_sibling',\n",
       " 'previous_siblings',\n",
       " 'recursiveChildGenerator',\n",
       " 'renderContents',\n",
       " 'replaceWith',\n",
       " 'replaceWithChildren',\n",
       " 'replace_with',\n",
       " 'replace_with_children',\n",
       " 'select',\n",
       " 'select_one',\n",
       " 'self_and_descendants',\n",
       " 'setup',\n",
       " 'smooth',\n",
       " 'string',\n",
       " 'strings',\n",
       " 'stripped_strings',\n",
       " 'text',\n",
       " 'unwrap',\n",
       " 'wrap']"
      ]
     },
     "execution_count": 17,
     "metadata": {},
     "output_type": "execute_result"
    }
   ],
   "source": [
    "dir(cell)"
   ]
  },
  {
   "cell_type": "code",
   "execution_count": 29,
   "id": "4c0bf10a-944e-414b-aecd-2ceffa2ddf95",
   "metadata": {},
   "outputs": [
    {
     "data": {
      "text/plain": [
       "'\\n\\n\\n\\n'"
      ]
     },
     "execution_count": 29,
     "metadata": {},
     "output_type": "execute_result"
    }
   ],
   "source": [
    "cell.text"
   ]
  },
  {
   "cell_type": "code",
   "execution_count": null,
   "id": "f49974c5-a29c-4b13-9a92-bf2df3fb0851",
   "metadata": {},
   "outputs": [],
   "source": []
  }
 ],
 "metadata": {
  "kernelspec": {
   "display_name": "Python 3 (ipykernel)",
   "language": "python",
   "name": "python3"
  },
  "language_info": {
   "codemirror_mode": {
    "name": "ipython",
    "version": 3
   },
   "file_extension": ".py",
   "mimetype": "text/x-python",
   "name": "python",
   "nbconvert_exporter": "python",
   "pygments_lexer": "ipython3",
   "version": "3.11.5"
  }
 },
 "nbformat": 4,
 "nbformat_minor": 5
}
